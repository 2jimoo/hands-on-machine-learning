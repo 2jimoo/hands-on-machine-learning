{
 "cells": [
  {
   "cell_type": "markdown",
   "id": "b31b5148",
   "metadata": {},
   "source": [
    "# 비선형 데이터를 선형모델로 예측하기\n",
    "### 다항회귀\n",
    "- n승 데이터 필드를 추가하여 선형 모델 학습하는 방법\n",
    "- PolynomialFeatures"
   ]
  },
  {
   "cell_type": "code",
   "execution_count": 9,
   "id": "81c5b7dd",
   "metadata": {},
   "outputs": [],
   "source": [
    "import numpy as np\n",
    "\n",
    "m= 100\n",
    "X= 6*np.random.rand(m,1) - 3\n",
    "y= 0.5* X**2 + X + 2 +np.random.randn(m,1)"
   ]
  },
  {
   "cell_type": "code",
   "execution_count": 2,
   "id": "32680612",
   "metadata": {},
   "outputs": [
    {
     "name": "stdout",
     "output_type": "stream",
     "text": [
      "[-0.76160513] [-0.76160513  0.58004237]\n"
     ]
    }
   ],
   "source": [
    "from sklearn.preprocessing import PolynomialFeatures\n",
    "# degree: 몇 승(차)항까지 추가할 것인가\n",
    "poly_features= PolynomialFeatures(degree=2, include_bias=False)\n",
    "X_poly= poly_features.fit_transform(X)\n",
    "\n",
    "#X_poly: X와 X의 제곱항을 특성으로 추가\n",
    "print(X[0], X_poly[0])"
   ]
  },
  {
   "cell_type": "code",
   "execution_count": 3,
   "id": "96a42566",
   "metadata": {},
   "outputs": [
    {
     "data": {
      "text/plain": [
       "(array([1.95484602]), array([[0.99891227, 0.51991486]]))"
      ]
     },
     "execution_count": 3,
     "metadata": {},
     "output_type": "execute_result"
    }
   ],
   "source": [
    "from sklearn.linear_model import LinearRegression \n",
    "lin_reg= LinearRegression()\n",
    "lin_reg.fit(X_poly, y)\n",
    "lin_reg.intercept_, lin_reg.coef_\n",
    "\n",
    "#실제: 0.5X^2+ X + 2 + 가우시안 잡음\n",
    "#모델: coef_[0]X^2+ coef_[1]X +intercept_"
   ]
  },
  {
   "cell_type": "markdown",
   "id": "68613606",
   "metadata": {},
   "source": [
    "# 일반화 성능 확인하기\n",
    "### 교차검증\n",
    "- 훈련데이터에서는 성능이 좋고, 교차 검증 점수가 나쁘다면 과대적합\n",
    "- 양쪽에서 모두 나쁘다면 과소적합\n",
    "\n",
    "### 학습곡선\n",
    "- 훈련세트와 검증세트의 모델성능 함수 비교"
   ]
  },
  {
   "cell_type": "code",
   "execution_count": 4,
   "id": "7c0a5472",
   "metadata": {},
   "outputs": [],
   "source": [
    "from sklearn.metrics import mean_squared_error\n",
    "from sklearn.model_selection import train_test_split\n",
    "import matplotlib.pyplot as plt\n",
    "\n",
    "def plot_learning_curve(model, X, y):\n",
    "    X_train, X_val, y_train, y_val = train_test_split(X, y, test_size=0.2)\n",
    "    train_errors, val_errors= [], []\n",
    "    for m in range(1, len(X_train)):\n",
    "        model.fit(X_train[:m], y_train[:m])\n",
    "        y_train_predict= model.predict(X_train[:m])\n",
    "        y_val_predict= model.predict(X_val)\n",
    "        train_errors.append(mean_squared_error(y_train[:m], y_train_predict))\n",
    "        val_errors.append(mean_squared_error(y_val, y_val_predict))\n",
    "    plt.plot(np.sqrt(train_errors),\"r-+\", linewidth=2, label=\"훈련 세트\")\n",
    "    plt.plot(np.sqrt(val_errors),\"b-\", linewidth=4, label=\"검증 세트\")"
   ]
  },
  {
   "cell_type": "code",
   "execution_count": 5,
   "id": "045a3203",
   "metadata": {},
   "outputs": [
    {
     "data": {
      "image/png": "[encoded data removed]",
      "text/plain": [
       "<Figure size 640x480 with 1 Axes>"
      ]
     },
     "metadata": {},
     "output_type": "display_data"
    }
   ],
   "source": [
    "lin_reg= LinearRegression()\n",
    "plot_learning_curve(lin_reg, X, y)\n",
    "\n",
    "# 과소 적합 그래프 특징\n",
    "# 검증 성능이 더 좋고, 데이터가 추가되어도 두 그래프 차이가 줄어들지않는다.\n",
    "# 복잡한 모델, 더 나은 특성을 선택해야함"
   ]
  },
  {
   "cell_type": "code",
   "execution_count": null,
   "id": "eb65f2ec",
   "metadata": {},
   "outputs": [],
   "source": [
    "from sklearn.pipeline import Pipeline\n",
    "\n",
    "polynomial_regression = Pipeline([\n",
    "    (\"poly_features\", PolynomialFeatures(degree=10, include_bias=False)),\n",
    "    (\"lin_reg\", LinearRegression())\n",
    "])\n",
    "\n",
    "plot_learning_curve(polynomial_regression, X, y)\n",
    "# 과대적합 특징\n",
    "# 훈련데이터의 오차가 선형 회귀모델보다 훨씬 낮고, 검증 오차보다도 훨씬 낮음"
   ]
  },
  {
   "cell_type": "markdown",
   "id": "6026a8a6",
   "metadata": {},
   "source": [
    "# 규제적용\n",
    "### 릿지 회귀\n",
    "- 선형회귀 비용함수에 alpha * Norm2 규제항 추가\n",
    "    - J 야코비안 행렬: 각 가중치에 대한 도함수 행렬\n",
    "    - J(x)= MSE(x)+a * sum(|x|^2)\n",
    "- 규제항은 훈련중에만, 편향 제외한 가중치에만 적용됨\n",
    "- 이 릿지회귀 또한 정규방정식 또는 경사하강법으로 가중치 행렬 구할 수 있음\n",
    "    - 행렬분해 - cholesky\n",
    "- sklearn.linear_model의 Ridge\n",
    "    - penalty에 사용할 규제 지정"
   ]
  },
  {
   "cell_type": "code",
   "execution_count": 10,
   "id": "81f966f2",
   "metadata": {},
   "outputs": [
    {
     "data": {
      "text/plain": [
       "array([[5.18123871]])"
      ]
     },
     "execution_count": 10,
     "metadata": {},
     "output_type": "execute_result"
    }
   ],
   "source": [
    "from sklearn.linear_model import Ridge\n",
    "\n",
    "ridge_reg= Ridge(alpha=1, solver=\"cholesky\")\n",
    "ridge_reg.fit(X,y)\n",
    "ridge_reg.predict([[1.5]])"
   ]
  },
  {
   "cell_type": "code",
   "execution_count": 11,
   "id": "95cdfb5e",
   "metadata": {},
   "outputs": [
    {
     "name": "stderr",
     "output_type": "stream",
     "text": [
      "/opt/homebrew/lib/python3.10/site-packages/sklearn/utils/validation.py:1141: DataConversionWarning: A column-vector y was passed when a 1d array was expected. Please change the shape of y to (n_samples, ), for example using ravel().\n",
      "  y = column_or_1d(y, warn=True)\n"
     ]
    },
    {
     "data": {
      "text/plain": [
       "array([5.16919657])"
      ]
     },
     "execution_count": 11,
     "metadata": {},
     "output_type": "execute_result"
    }
   ],
   "source": [
    "from sklearn.linear_model import SGDRegressor\n",
    "\n",
    "sed_reg= SGDRegressor(penalty='l2')\n",
    "sed_reg.fit(X, y)\n",
    "sed_reg.predict([[1.5]])"
   ]
  },
  {
   "cell_type": "markdown",
   "id": "baec5c9f",
   "metadata": {},
   "source": [
    "### 라쏘 회귀"
   ]
  },
  {
   "cell_type": "markdown",
   "id": "72a7baf5",
   "metadata": {},
   "source": [
    "### 엘라스틱넷"
   ]
  },
  {
   "cell_type": "markdown",
   "id": "5de8d2ac",
   "metadata": {},
   "source": [
    "# 조기종료"
   ]
  }
 ],
 "metadata": {
  "kernelspec": {
   "display_name": "Python 3 (ipykernel)",
   "language": "python",
   "name": "python3"
  },
  "language_info": {
   "codemirror_mode": {
    "name": "ipython",
    "version": 3
   },
   "file_extension": ".py",
   "mimetype": "text/x-python",
   "name": "python",
   "nbconvert_exporter": "python",
   "pygments_lexer": "ipython3",
   "version": "3.10.9"
  }
 },
 "nbformat": 4,
 "nbformat_minor": 5
}
