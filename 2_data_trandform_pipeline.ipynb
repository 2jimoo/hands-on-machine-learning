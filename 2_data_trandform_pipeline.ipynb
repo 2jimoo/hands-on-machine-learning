{
 "cells": [
  {
   "cell_type": "code",
   "execution_count": 1,
   "id": "8d7599d5",
   "metadata": {},
   "outputs": [],
   "source": [
    "from sklearn.model_selection import StratifiedShuffleSplit\n",
    "import numpy as np\n",
    "import pandas as pd\n",
    "import os\n",
    "\n",
    "HOUSING_PATH=os.path.join(\"datasets\",\"housing\")\n",
    "def load_housing_data(housing_path=HOUSING_PATH):\n",
    "    csv_path = os.path.join(housing_path, \"housing.csv\")\n",
    "    return pd.read_csv(csv_path)\n",
    "\n",
    "h=load_housing_data()\n",
    "h['income_cat']=pd.cut(h['median_income'], bins=[0., 1.5, 3.0, 4.5, 6., np.inf], labels=[1,2,3,4,5])\n",
    "split = StratifiedShuffleSplit(n_splits=1, test_size=0.2, random_state=42)\n",
    "for train_index, test_index in split.split(h, h['income_cat']): #h['income_cat'] 분포를 반영하여 h를 계층 샘플링\n",
    "    strat_train_set=h.loc[train_index]\n",
    "    strat_test_set=h.loc[test_index]\n"
   ]
  },
  {
   "cell_type": "markdown",
   "id": "cd27e43d",
   "metadata": {},
   "source": [
    "# 레이블, 비레이블로 분리\n",
    "- 타겟값에 예측 변수에 변형을 가할 때 같이 변형되면 안 되므로 "
   ]
  },
  {
   "cell_type": "code",
   "execution_count": 2,
   "id": "f3c53b42",
   "metadata": {},
   "outputs": [],
   "source": [
    "h = strat_train_set.drop(\"median_house_value\", axis=1)\n",
    "h_labels= strat_train_set[\"median_house_value\"]"
   ]
  },
  {
   "cell_type": "markdown",
   "id": "b28c02f0",
   "metadata": {},
   "source": [
    "# 누락 데이터 처리\n",
    "\n",
    "### 누락 데이터 처리방법\n",
    "- 해당 데이터 제거(dropna)\n",
    "- 전체 특성 삭제(drop)\n",
    "- 어떤 값으로 채운다.(0, 평균, 중간값 등 fillna, sklearn.SimpleImputer)"
   ]
  },
  {
   "cell_type": "code",
   "execution_count": 3,
   "id": "ff466321",
   "metadata": {},
   "outputs": [
    {
     "data": {
      "text/plain": [
       "array([-118.51   ,   34.26   ,   29.     , 2119.     ,  433.     ,\n",
       "       1164.     ,  408.     ,    3.54155,    3.     ])"
      ]
     },
     "execution_count": 3,
     "metadata": {},
     "output_type": "execute_result"
    }
   ],
   "source": [
    "from sklearn.impute import SimpleImputer\n",
    "\n",
    "imputer = SimpleImputer(strategy=\"median\")\n",
    "# 중간값으로 채우려면 비 수치형 데이터들 제외해야함\n",
    "h_num  = h.drop('ocean_proximity', axis=1)\n",
    "# 모든 특성의 중간값을 계산(=이 또한 객체 학습)\n",
    "imputer.fit(h_num)\n",
    "imputer.statistics_"
   ]
  },
  {
   "cell_type": "code",
   "execution_count": 4,
   "id": "3d63d779",
   "metadata": {},
   "outputs": [],
   "source": [
    "#학습된 객체로 누락값을 중간값으로 대체\n",
    "X= imputer.transform(h_num)\n",
    "h_tr= pd.DataFrame(X, columns=h_num.columns, index= h_num.index)"
   ]
  },
  {
   "cell_type": "markdown",
   "id": "a0b317c1",
   "metadata": {},
   "source": [
    "# 텍스트형/범주형 데이터 처리"
   ]
  },
  {
   "cell_type": "code",
   "execution_count": 5,
   "id": "6ae6b7c3",
   "metadata": {},
   "outputs": [
    {
     "data": {
      "text/html": [
       "<div>\n",
       "<style scoped>\n",
       "    .dataframe tbody tr th:only-of-type {\n",
       "        vertical-align: middle;\n",
       "    }\n",
       "\n",
       "    .dataframe tbody tr th {\n",
       "        vertical-align: top;\n",
       "    }\n",
       "\n",
       "    .dataframe thead th {\n",
       "        text-align: right;\n",
       "    }\n",
       "</style>\n",
       "<table border=\"1\" class=\"dataframe\">\n",
       "  <thead>\n",
       "    <tr style=\"text-align: right;\">\n",
       "      <th></th>\n",
       "      <th>ocean_proximity</th>\n",
       "    </tr>\n",
       "  </thead>\n",
       "  <tbody>\n",
       "    <tr>\n",
       "      <th>12655</th>\n",
       "      <td>INLAND</td>\n",
       "    </tr>\n",
       "    <tr>\n",
       "      <th>15502</th>\n",
       "      <td>NEAR OCEAN</td>\n",
       "    </tr>\n",
       "    <tr>\n",
       "      <th>2908</th>\n",
       "      <td>INLAND</td>\n",
       "    </tr>\n",
       "    <tr>\n",
       "      <th>14053</th>\n",
       "      <td>NEAR OCEAN</td>\n",
       "    </tr>\n",
       "    <tr>\n",
       "      <th>20496</th>\n",
       "      <td>&lt;1H OCEAN</td>\n",
       "    </tr>\n",
       "  </tbody>\n",
       "</table>\n",
       "</div>"
      ],
      "text/plain": [
       "      ocean_proximity\n",
       "12655          INLAND\n",
       "15502      NEAR OCEAN\n",
       "2908           INLAND\n",
       "14053      NEAR OCEAN\n",
       "20496       <1H OCEAN"
      ]
     },
     "execution_count": 5,
     "metadata": {},
     "output_type": "execute_result"
    }
   ],
   "source": [
    "h_cat= h[['ocean_proximity']]\n",
    "h_cat.head()\n",
    "#임의의 텍스트가 아니라 카테고리(범주형)임을 알 수 있다."
   ]
  },
  {
   "cell_type": "code",
   "execution_count": 6,
   "id": "2b1f72f0",
   "metadata": {},
   "outputs": [],
   "source": [
    "#카테고리를 숫자로 변환한다.\n",
    "from sklearn.preprocessing import OneHotEncoder\n",
    "encoder=OneHotEncoder()\n",
    "h_cat_1hot=encoder.fit(h_cat)"
   ]
  },
  {
   "cell_type": "code",
   "execution_count": 7,
   "id": "b5fa1d85",
   "metadata": {},
   "outputs": [
    {
     "data": {
      "text/plain": [
       "[array(['<1H OCEAN', 'INLAND', 'ISLAND', 'NEAR BAY', 'NEAR OCEAN'],\n",
       "       dtype=object)]"
      ]
     },
     "execution_count": 7,
     "metadata": {},
     "output_type": "execute_result"
    }
   ],
   "source": [
    "encoder.categories_"
   ]
  },
  {
   "cell_type": "markdown",
   "id": "63d92ce1",
   "metadata": {},
   "source": [
    "# 모든 특성조합 필드 구성\n",
    "- 커스텀 변환기를 만든다.\n",
    "- sklearn method를 구현하면 바로 사용할 수 있다.\n",
    "    - fit, transform, fit_transform(TransformerMixin 상속시 자동 생성)\n",
    "    - get_params, set_params(hp 튜닝시 필요, BaseEstimtor 상속시 자동 생성)\n",
    "- 합리적인 기본값을 셋팅하는 것이 좋다."
   ]
  },
  {
   "cell_type": "code",
   "execution_count": 8,
   "id": "3d05e134",
   "metadata": {},
   "outputs": [],
   "source": [
    "from sklearn.base import BaseEstimator, TransformerMixin\n",
    "\n",
    "rooms_ix, bedrooms_ix, population_ix, households_ix = 3,4,5,6\n",
    "\n",
    "class CombinedAttributesAdder(BaseEstimator, TransformerMixin):\n",
    "    def __init__(self,add_bedrooms_per_room=True):\n",
    "        self.add_bedrooms_per_room = add_bedrooms_per_room\n",
    "    def fit(self, X, y=None):\n",
    "        return self\n",
    "    def transform(self, X):\n",
    "        rooms_per_household= X[:, rooms_ix]/X[:, households_ix]\n",
    "        population_per_household= X[:, population_ix]/X[:, households_ix]\n",
    "        if self.add_bedrooms_per_room:\n",
    "            bedrooms_per_room = X[:, bedrooms_ix]/X[:, rooms_ix]\n",
    "            return np.c_[X, rooms_per_household, population_per_household, bedrooms_per_room]\n",
    "        else:\n",
    "            return np.c_[X, rooms_per_household, population_per_household]\n",
    "            \n",
    "attr_adder=CombinedAttributesAdder(add_bedrooms_per_room=False)\n",
    "h_extra_attrs= attr_adder.transform(h.values)"
   ]
  },
  {
   "cell_type": "markdown",
   "id": "95058676",
   "metadata": {},
   "source": [
    "# 특성 스케일링\n",
    "### 정규화\n",
    "- min-max scaling(MinMaxScaler)\n",
    "- a~b(보통 a=0,b=1)범위 안에 들도록 이동하고 스케일을 조정함 \n",
    "- 상한 하한이 특정값으로 기대되는 경우 유용\n",
    "\n",
    "### 표준화\n",
    "- StandardScaler\n",
    "- 평균을 뺀 후(표준화 후 평균 0되는 이유) 표준편차로 나누어 분산이 1이 되도록 함\n",
    "- 상한 하한이 없어 신경망같은 알고리즘에서는 문제가 될 수 있지만, 이상치의 영향을 덜 받음"
   ]
  },
  {
   "cell_type": "markdown",
   "id": "b63361c5",
   "metadata": {},
   "source": [
    "# 변환 파이프라인\n",
    "- Pipeline"
   ]
  },
  {
   "cell_type": "code",
   "execution_count": 9,
   "id": "df7eaf69",
   "metadata": {},
   "outputs": [],
   "source": [
    "from sklearn.pipeline import Pipeline\n",
    "from sklearn.preprocessing import StandardScaler\n",
    "\n",
    "num_pipeline = Pipeline([\n",
    "    ('imputer', SimpleImputer(strategy=\"median\")),\n",
    "    ('attr_adder', CombinedAttributesAdder()),\n",
    "    ('std_scaler',StandardScaler()),\n",
    "])\n",
    "\n",
    "h_num_tr= num_pipeline.fit_transform(h_num)"
   ]
  },
  {
   "cell_type": "markdown",
   "id": "e48aa961",
   "metadata": {},
   "source": [
    "- ColumnTransformer\n",
    "    - 같은 변환 파이프라인을 거치는 열들 별로 구분해서 전달\n",
    "    - ex. 범주형, 수치형 열 구분해서 변환할 때 등"
   ]
  },
  {
   "cell_type": "code",
   "execution_count": 10,
   "id": "0dbf3b14",
   "metadata": {},
   "outputs": [],
   "source": [
    "from sklearn.compose import ColumnTransformer\n",
    "\n",
    "num_attribs= list(h_num)\n",
    "cat_attribs= ['ocean_proximity']\n",
    "\n",
    "full_pipeline = ColumnTransformer([\n",
    "    ('num', num_pipeline, num_attribs),\n",
    "    ('cat', OneHotEncoder(), cat_attribs)\n",
    "])\n",
    "\n",
    "h_prepared= full_pipeline.fit_transform(h)"
   ]
  },
  {
   "cell_type": "markdown",
   "id": "d2286aa7",
   "metadata": {},
   "source": [
    "# 모델 선정\n",
    "- 후보 모델 몇 개 시도\n",
    "    - K-Fold CV로 과대과소적합도 평가\n",
    "- 선정된 모델에 대해 hp튜닝\n",
    "    - GridSearchCV, RandomizedSearch\n",
    "- 앙상블\n",
    "- 테스트 세트로 시스템 최종평가\n",
    "    - 다소 훈련세트에 맞춰져 있으므로 실제 테스트시 약간 성능 떨어지는 것이 보편적"
   ]
  },
  {
   "cell_type": "code",
   "execution_count": 11,
   "id": "ed9927cd",
   "metadata": {},
   "outputs": [
    {
     "data": {
      "text/plain": [
       "array([51841.35909491, 49014.32571127, 46786.84540369, 51805.13255844,\n",
       "       47325.81325209, 51835.41145091, 52241.41165022, 49528.08341686,\n",
       "       48391.30963858, 53907.78650892])"
      ]
     },
     "execution_count": 11,
     "metadata": {},
     "output_type": "execute_result"
    }
   ],
   "source": [
    "from sklearn.metrics import mean_squared_error\n",
    "from sklearn.model_selection import cross_val_score\n",
    "from sklearn.ensemble import RandomForestRegressor\n",
    "\n",
    "model= RandomForestRegressor()\n",
    "model.fit(h_prepared, h_labels)\n",
    "\n",
    "scores= cross_val_score(model, h_prepared, h_labels, scoring='neg_mean_squared_error', cv=10)\n",
    "model_rmse = np.sqrt(-scores)\n",
    "model_rmse "
   ]
  },
  {
   "cell_type": "code",
   "execution_count": 12,
   "id": "6c7b8b84",
   "metadata": {},
   "outputs": [
    {
     "data": {
      "text/plain": [
       "50267.74786858961"
      ]
     },
     "execution_count": 12,
     "metadata": {},
     "output_type": "execute_result"
    }
   ],
   "source": [
    "model_rmse.mean()    "
   ]
  },
  {
   "cell_type": "code",
   "execution_count": 13,
   "id": "1395c11a",
   "metadata": {},
   "outputs": [],
   "source": [
    "import joblib\n",
    "#joblib.dump(model, \"my_model.pkl\")\n",
    "#model= joblib.load('my_model.pkl')"
   ]
  },
  {
   "cell_type": "markdown",
   "id": "e26ef5aa",
   "metadata": {},
   "source": [
    "# 하이퍼 파라미터 튜닝 / 중요 특성 걸러내기"
   ]
  },
  {
   "cell_type": "code",
   "execution_count": 14,
   "id": "50401f3f",
   "metadata": {},
   "outputs": [
    {
     "data": {
      "text/html": [
       "<style>#sk-container-id-1 {color: black;background-color: white;}#sk-container-id-1 pre{padding: 0;}#sk-container-id-1 div.sk-toggleable {background-color: white;}#sk-container-id-1 label.sk-toggleable__label {cursor: pointer;display: block;width: 100%;margin-bottom: 0;padding: 0.3em;box-sizing: border-box;text-align: center;}#sk-container-id-1 label.sk-toggleable__label-arrow:before {content: \"▸\";float: left;margin-right: 0.25em;color: #696969;}#sk-container-id-1 label.sk-toggleable__label-arrow:hover:before {color: black;}#sk-container-id-1 div.sk-estimator:hover label.sk-toggleable__label-arrow:before {color: black;}#sk-container-id-1 div.sk-toggleable__content {max-height: 0;max-width: 0;overflow: hidden;text-align: left;background-color: #f0f8ff;}#sk-container-id-1 div.sk-toggleable__content pre {margin: 0.2em;color: black;border-radius: 0.25em;background-color: #f0f8ff;}#sk-container-id-1 input.sk-toggleable__control:checked~div.sk-toggleable__content {max-height: 200px;max-width: 100%;overflow: auto;}#sk-container-id-1 input.sk-toggleable__control:checked~label.sk-toggleable__label-arrow:before {content: \"▾\";}#sk-container-id-1 div.sk-estimator input.sk-toggleable__control:checked~label.sk-toggleable__label {background-color: #d4ebff;}#sk-container-id-1 div.sk-label input.sk-toggleable__control:checked~label.sk-toggleable__label {background-color: #d4ebff;}#sk-container-id-1 input.sk-hidden--visually {border: 0;clip: rect(1px 1px 1px 1px);clip: rect(1px, 1px, 1px, 1px);height: 1px;margin: -1px;overflow: hidden;padding: 0;position: absolute;width: 1px;}#sk-container-id-1 div.sk-estimator {font-family: monospace;background-color: #f0f8ff;border: 1px dotted black;border-radius: 0.25em;box-sizing: border-box;margin-bottom: 0.5em;}#sk-container-id-1 div.sk-estimator:hover {background-color: #d4ebff;}#sk-container-id-1 div.sk-parallel-item::after {content: \"\";width: 100%;border-bottom: 1px solid gray;flex-grow: 1;}#sk-container-id-1 div.sk-label:hover label.sk-toggleable__label {background-color: #d4ebff;}#sk-container-id-1 div.sk-serial::before {content: \"\";position: absolute;border-left: 1px solid gray;box-sizing: border-box;top: 0;bottom: 0;left: 50%;z-index: 0;}#sk-container-id-1 div.sk-serial {display: flex;flex-direction: column;align-items: center;background-color: white;padding-right: 0.2em;padding-left: 0.2em;position: relative;}#sk-container-id-1 div.sk-item {position: relative;z-index: 1;}#sk-container-id-1 div.sk-parallel {display: flex;align-items: stretch;justify-content: center;background-color: white;position: relative;}#sk-container-id-1 div.sk-item::before, #sk-container-id-1 div.sk-parallel-item::before {content: \"\";position: absolute;border-left: 1px solid gray;box-sizing: border-box;top: 0;bottom: 0;left: 50%;z-index: -1;}#sk-container-id-1 div.sk-parallel-item {display: flex;flex-direction: column;z-index: 1;position: relative;background-color: white;}#sk-container-id-1 div.sk-parallel-item:first-child::after {align-self: flex-end;width: 50%;}#sk-container-id-1 div.sk-parallel-item:last-child::after {align-self: flex-start;width: 50%;}#sk-container-id-1 div.sk-parallel-item:only-child::after {width: 0;}#sk-container-id-1 div.sk-dashed-wrapped {border: 1px dashed gray;margin: 0 0.4em 0.5em 0.4em;box-sizing: border-box;padding-bottom: 0.4em;background-color: white;}#sk-container-id-1 div.sk-label label {font-family: monospace;font-weight: bold;display: inline-block;line-height: 1.2em;}#sk-container-id-1 div.sk-label-container {text-align: center;}#sk-container-id-1 div.sk-container {/* jupyter's `normalize.less` sets `[hidden] { display: none; }` but bootstrap.min.css set `[hidden] { display: none !important; }` so we also need the `!important` here to be able to override the default hidden behavior on the sphinx rendered scikit-learn.org. See: https://github.com/scikit-learn/scikit-learn/issues/21755 */display: inline-block !important;position: relative;}#sk-container-id-1 div.sk-text-repr-fallback {display: none;}</style><div id=\"sk-container-id-1\" class=\"sk-top-container\"><div class=\"sk-text-repr-fallback\"><pre>GridSearchCV(cv=5, estimator=RandomForestRegressor(),\n",
       "             param_grid=[{&#x27;max_features&#x27;: [2, 4, 6, 8],\n",
       "                          &#x27;n_estimators&#x27;: [3, 10, 30]},\n",
       "                         {&#x27;bootstrap&#x27;: [False], &#x27;max_features&#x27;: [2, 3, 4],\n",
       "                          &#x27;n_estimators&#x27;: [3, 10]}],\n",
       "             return_train_score=True, scoring=&#x27;neg_mean_squared_error&#x27;)</pre><b>In a Jupyter environment, please rerun this cell to show the HTML representation or trust the notebook. <br />On GitHub, the HTML representation is unable to render, please try loading this page with nbviewer.org.</b></div><div class=\"sk-container\" hidden><div class=\"sk-item sk-dashed-wrapped\"><div class=\"sk-label-container\"><div class=\"sk-label sk-toggleable\"><input class=\"sk-toggleable__control sk-hidden--visually\" id=\"sk-estimator-id-1\" type=\"checkbox\" ><label for=\"sk-estimator-id-1\" class=\"sk-toggleable__label sk-toggleable__label-arrow\">GridSearchCV</label><div class=\"sk-toggleable__content\"><pre>GridSearchCV(cv=5, estimator=RandomForestRegressor(),\n",
       "             param_grid=[{&#x27;max_features&#x27;: [2, 4, 6, 8],\n",
       "                          &#x27;n_estimators&#x27;: [3, 10, 30]},\n",
       "                         {&#x27;bootstrap&#x27;: [False], &#x27;max_features&#x27;: [2, 3, 4],\n",
       "                          &#x27;n_estimators&#x27;: [3, 10]}],\n",
       "             return_train_score=True, scoring=&#x27;neg_mean_squared_error&#x27;)</pre></div></div></div><div class=\"sk-parallel\"><div class=\"sk-parallel-item\"><div class=\"sk-item\"><div class=\"sk-label-container\"><div class=\"sk-label sk-toggleable\"><input class=\"sk-toggleable__control sk-hidden--visually\" id=\"sk-estimator-id-2\" type=\"checkbox\" ><label for=\"sk-estimator-id-2\" class=\"sk-toggleable__label sk-toggleable__label-arrow\">estimator: RandomForestRegressor</label><div class=\"sk-toggleable__content\"><pre>RandomForestRegressor()</pre></div></div></div><div class=\"sk-serial\"><div class=\"sk-item\"><div class=\"sk-estimator sk-toggleable\"><input class=\"sk-toggleable__control sk-hidden--visually\" id=\"sk-estimator-id-3\" type=\"checkbox\" ><label for=\"sk-estimator-id-3\" class=\"sk-toggleable__label sk-toggleable__label-arrow\">RandomForestRegressor</label><div class=\"sk-toggleable__content\"><pre>RandomForestRegressor()</pre></div></div></div></div></div></div></div></div></div></div>"
      ],
      "text/plain": [
       "GridSearchCV(cv=5, estimator=RandomForestRegressor(),\n",
       "             param_grid=[{'max_features': [2, 4, 6, 8],\n",
       "                          'n_estimators': [3, 10, 30]},\n",
       "                         {'bootstrap': [False], 'max_features': [2, 3, 4],\n",
       "                          'n_estimators': [3, 10]}],\n",
       "             return_train_score=True, scoring='neg_mean_squared_error')"
      ]
     },
     "execution_count": 14,
     "metadata": {},
     "output_type": "execute_result"
    }
   ],
   "source": [
    "from sklearn.model_selection import GridSearchCV\n",
    "\n",
    "params=[\n",
    "    {'n_estimators':[3, 10, 30], 'max_features':[2,4,6,8]},\n",
    "    {'bootstrap':[False],'n_estimators':[3, 10], 'max_features':[2,3,4] }\n",
    "]\n",
    "model= RandomForestRegressor()\n",
    "gridCV= GridSearchCV(model, params, cv=5, scoring='neg_mean_squared_error',return_train_score=True)\n",
    "gridCV.fit(h_prepared, h_labels)"
   ]
  },
  {
   "cell_type": "code",
   "execution_count": 15,
   "id": "928303d6",
   "metadata": {},
   "outputs": [
    {
     "data": {
      "text/plain": [
       "array([6.07180390e-02, 5.59831233e-02, 4.48940037e-02, 1.54268531e-02,\n",
       "       1.55826414e-02, 1.56205690e-02, 1.54207065e-02, 2.99542941e-01,\n",
       "       1.50982143e-01, 3.18393188e-02, 1.13402633e-01, 4.16355144e-02,\n",
       "       5.60950789e-03, 1.27936751e-01, 1.03134820e-04, 1.90706272e-03,\n",
       "       3.39505668e-03])"
      ]
     },
     "execution_count": 15,
     "metadata": {},
     "output_type": "execute_result"
    }
   ],
   "source": [
    "feat_importances = gridCV.best_estimator_.feature_importances_\n",
    "feat_importances\n",
    "# 이를 바탕으로 중요하지않은 특성 빼고 최종 모델 훈련 및 평가"
   ]
  },
  {
   "cell_type": "markdown",
   "id": "686ada34",
   "metadata": {},
   "source": [
    "# 평가, 신뢰구간 얻기"
   ]
  },
  {
   "cell_type": "code",
   "execution_count": 16,
   "id": "7e22b723",
   "metadata": {},
   "outputs": [
    {
     "data": {
      "text/plain": [
       "48708.14442038564"
      ]
     },
     "execution_count": 16,
     "metadata": {},
     "output_type": "execute_result"
    }
   ],
   "source": [
    "model= gridCV.best_estimator_\n",
    "\n",
    "X_test = strat_test_set.drop('median_house_value', axis=1)\n",
    "y_test = strat_test_set['median_house_value'].copy()\n",
    "\n",
    "X_test_prepared= full_pipeline.transform(X_test)\n",
    "predict= model.predict(X_test_prepared)\n",
    "\n",
    "mse= mean_squared_error(y_test, predict)\n",
    "rmse= np.sqrt(mse)\n",
    "rmse"
   ]
  },
  {
   "cell_type": "code",
   "execution_count": 17,
   "id": "fe4f2609",
   "metadata": {},
   "outputs": [
    {
     "data": {
      "text/plain": [
       "array([46695.54594715, 50640.82004126])"
      ]
     },
     "execution_count": 17,
     "metadata": {},
     "output_type": "execute_result"
    }
   ],
   "source": [
    "from scipy import stats\n",
    "confidence=0.95\n",
    "squared_errors= (predict- y_test)**2\n",
    "np.sqrt(stats.t.interval(confidence, len(squared_errors)-1,\n",
    "                        loc= squared_errors.mean(),\n",
    "                        scale= stats.sem(squared_errors)))"
   ]
  }
 ],
 "metadata": {
  "kernelspec": {
   "display_name": "Python 3 (ipykernel)",
   "language": "python",
   "name": "python3"
  },
  "language_info": {
   "codemirror_mode": {
    "name": "ipython",
    "version": 3
   },
   "file_extension": ".py",
   "mimetype": "text/x-python",
   "name": "python",
   "nbconvert_exporter": "python",
   "pygments_lexer": "ipython3",
   "version": "3.10.9"
  }
 },
 "nbformat": 4,
 "nbformat_minor": 5
}
