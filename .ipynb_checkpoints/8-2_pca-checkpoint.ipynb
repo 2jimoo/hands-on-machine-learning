{
 "cells": [
  {
   "cell_type": "markdown",
   "id": "4df7ea81",
   "metadata": {},
   "source": [
    "# Principal Components Analysis\n",
    "\n",
    "https://github.com/rickiepark/handson-ml2/blob/master/08_dimensionality_reduction.ipynb\n",
    "\n",
    "- 개념\n",
    "    - 데이터에 가장 가까운 초평면을 찾아 투영하면 데이터의 차원을 줄일 수 있다.\n",
    "- 가정\n",
    "    - 데이터의 평균이 0이다.(pca 하기전 데이터를 원점에 맞춰야함)\n",
    "- 초평면 찾기\n",
    "    - 분산이 가장 큰 축(원본과 투영본 사이의 평균 제곱거리가 최소화되는 축)을 선택한다.\n",
    "    - 그 축에 직교하고 다음으로 분산이 큰 축을 선택한다.\n",
    "    - 데이터 셋 차원 수 n만큼 반복한다.\n",
    "    - d차원 초평면(주성분 n개 중 d개=공분산 행렬 첫 d열)에 투영하여 데이터 차원 축소가능\n",
    "- 초평면 빠르게 찾기\n",
    "    - 특잇값 분해 \n",
    "    - 공분산 행렬의 고유벡터=분산이 어느 방향으로 가장 큰 가=주성분\n",
    "   "
   ]
  },
  {
   "cell_type": "code",
   "execution_count": 3,
   "id": "12454610",
   "metadata": {},
   "outputs": [],
   "source": [
    "#3D 데이터셋을 만듭니다\n",
    "import numpy as np\n",
    "np.random.seed(4)\n",
    "m = 60\n",
    "w1, w2 = 0.1, 0.3\n",
    "noise = 0.1\n",
    "\n",
    "angles = np.random.rand(m) * 3 * np.pi / 2 - 0.5\n",
    "X = np.empty((m, 3))\n",
    "X[:, 0] = np.cos(angles) + np.sin(angles)/2 + noise * np.random.randn(m) / 2\n",
    "X[:, 1] = np.sin(angles) * 0.7 + noise * np.random.randn(m) / 2\n",
    "X[:, 2] = X[:, 0] * w1 + X[:, 1] * w2 + noise * np.random.randn(m)"
   ]
  },
  {
   "cell_type": "code",
   "execution_count": 4,
   "id": "405a3ea0",
   "metadata": {},
   "outputs": [],
   "source": [
    "from sklearn.decomposition import PCA\n",
    "\n",
    "#데이터셋에서 평균을 빼는 작업도 대신 처리해 줍니다\n",
    "# PCA변환기의 components_ 속성에 W^d 전치(계산된 주성분)가 담겨있습니다\n",
    "pca= PCA(n_components=2)\n",
    "X2D= pca.fit_transform(X)"
   ]
  },
  {
   "cell_type": "code",
   "execution_count": null,
   "id": "3f6c2a54",
   "metadata": {},
   "outputs": [],
   "source": []
  }
 ],
 "metadata": {
  "kernelspec": {
   "display_name": "Python 3 (ipykernel)",
   "language": "python",
   "name": "python3"
  },
  "language_info": {
   "codemirror_mode": {
    "name": "ipython",
    "version": 3
   },
   "file_extension": ".py",
   "mimetype": "text/x-python",
   "name": "python",
   "nbconvert_exporter": "python",
   "pygments_lexer": "ipython3",
   "version": "3.10.9"
  }
 },
 "nbformat": 4,
 "nbformat_minor": 5
}
