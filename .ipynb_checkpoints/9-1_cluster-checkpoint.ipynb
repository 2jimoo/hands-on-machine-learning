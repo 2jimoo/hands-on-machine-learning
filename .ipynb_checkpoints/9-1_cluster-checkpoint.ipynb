{
 "cells": [
  {
   "cell_type": "code",
   "execution_count": 8,
   "id": "636a0d38",
   "metadata": {},
   "outputs": [
    {
     "name": "stdout",
     "output_type": "stream",
     "text": [
      "dict_keys(['data', 'target', 'frame', 'target_names', 'DESCR', 'feature_names', 'filename', 'data_module'])\n",
      "['setosa' 'versicolor' 'virginica']\n"
     ]
    }
   ],
   "source": [
    "from sklearn import datasets\n",
    "\n",
    "iris = datasets.load_iris()\n",
    "X = iris.data[:, :]  \n",
    "y = iris.target\n",
    "print(iris.keys())\n",
    "print(iris.target_names)"
   ]
  },
  {
   "cell_type": "markdown",
   "id": "50e1fda1",
   "metadata": {},
   "source": [
    "# KMeans\n",
    "- K 평균 알고리즘\n",
    "  - 알고리즘이 찾을 클러스터 수 k개 지정\n",
    "  - 센트로이드 랜덤 초기화\n",
    "  - 샘플에 레이블 할당, 센트로이드 업데이트 -> 센트로이드 변동 없을 때까지 반복\n",
    "  - 제한된 횟수이내 수렴 보장\n",
    "- 하드 군집\n",
    "    - 샘플당 클러스터 하나 부여\n",
    "    - 클러스터의 크기가 다르면 잘 작동하지 않는다.\n",
    "- 소프트 군집\n",
    "    - 샘플당 클러스터들의 점수 부여\n",
    "    - 점수: 샘플과 센트로이드 간 거리, 샘플과 센트로이드의 유사점수(친화성 점수)\n",
    "- 한계\n",
    "    - k 지정\n",
    "    - 최적답을 찾기 위해 여러번 수행해야함\n",
    "    - 클러스터간 크기, 밀집도, 원형 분포가 아닌 경우 잘 작동 안 함\n",
    "        - 특성 스케일 중요한 이유"
   ]
  },
  {
   "cell_type": "code",
   "execution_count": 9,
   "id": "84037d77",
   "metadata": {},
   "outputs": [
    {
     "name": "stderr",
     "output_type": "stream",
     "text": [
      "/opt/homebrew/lib/python3.10/site-packages/sklearn/cluster/_kmeans.py:870: FutureWarning: The default value of `n_init` will change from 10 to 'auto' in 1.4. Set the value of `n_init` explicitly to suppress the warning\n",
      "  warnings.warn(\n"
     ]
    }
   ],
   "source": [
    "from sklearn.cluster import KMeans\n",
    "\n",
    "k=3\n",
    "kmeans = KMeans(n_clusters=k)\n",
    "y_pred= kmeans.fit_predict(X)"
   ]
  },
  {
   "cell_type": "code",
   "execution_count": 12,
   "id": "e45382c7",
   "metadata": {},
   "outputs": [
    {
     "name": "stdout",
     "output_type": "stream",
     "text": [
      "True\n"
     ]
    }
   ],
   "source": [
    "print(y_pred is kmeans.labels_)"
   ]
  },
  {
   "cell_type": "code",
   "execution_count": 13,
   "id": "223bb2a1",
   "metadata": {},
   "outputs": [
    {
     "name": "stdout",
     "output_type": "stream",
     "text": [
      "[[5.006      3.428      1.462      0.246     ]\n",
      " [5.9016129  2.7483871  4.39354839 1.43387097]\n",
      " [6.85       3.07368421 5.74210526 2.07105263]]\n"
     ]
    }
   ],
   "source": [
    "print(kmeans.cluster_centers_)"
   ]
  },
  {
   "cell_type": "markdown",
   "id": "90b6cafa",
   "metadata": {},
   "source": [
    "### 이너셔\n",
    "- 성능지표\n",
    "- 샘플과 가장 가까운 센트로이드의 제곱 거리 합\n",
    "- score는 이니셔의 음수값"
   ]
  },
  {
   "cell_type": "code",
   "execution_count": 14,
   "id": "e1628a03",
   "metadata": {},
   "outputs": [
    {
     "data": {
      "text/plain": [
       "78.85144142614601"
      ]
     },
     "execution_count": 14,
     "metadata": {},
     "output_type": "execute_result"
    }
   ],
   "source": [
    "kmeans.inertia_"
   ]
  },
  {
   "cell_type": "code",
   "execution_count": 15,
   "id": "93891794",
   "metadata": {},
   "outputs": [
    {
     "data": {
      "text/plain": [
       "-78.85144142614601"
      ]
     },
     "execution_count": 15,
     "metadata": {},
     "output_type": "execute_result"
    }
   ],
   "source": [
    "kmeans.score(X)"
   ]
  },
  {
   "cell_type": "markdown",
   "id": "8ed7873a",
   "metadata": {},
   "source": [
    "### KMeans++ 알고리즘\n",
    "- 센트로이드와 거리가 먼 센트로이트 선택하는 똑똑한 초기화\n",
    "\n",
    "### 속도개선\n",
    "- 삼각부등식으로 계산량 줄이기\n",
    "    - AC <= AB+BC\n",
    "- 샘플과 센트로이드 거리 상하한선 유지\n",
    "\n",
    "### 미니 배치 KMeans\n",
    "- 센트로이드를 조금씩 업데이트\n",
    "- 메모리 절약, 속도 매우 개선\n",
    "    - 방법1 PCA memmap (??\n",
    "    - 방법2 partial_fit\n",
    "- 단점\n",
    "    - 초기화, 좋은 미니배치 선택 직접해야함\n",
    "    - 이니셔가 일반 kmeans보다 나쁨\n",
    "        - k가 증가할 수록 이니셔가 줄어드는 경향이 있기 때문에 성능저하 비율이 커짐="
   ]
  },
  {
   "cell_type": "markdown",
   "id": "1f257fb3",
   "metadata": {},
   "source": [
    "# 최적의 K 찾기\n",
    "- 후보 1 이니셔\n",
    "    - k가 커질 수록 작아지는 값이라 기각\n",
    "- 후보 2 엘보\n",
    "    - 이니셔를 k에 대한 함수로 나타내면 k'까지는 빠르게 감소하고 그 이후 느리게 감소함\n",
    "- 후보 3 실루엣 점수\n",
    "    - 각 샘플의 실루엣 계수 평균\n",
    "    - 샘플의 실루엣 계수 = (b-a)/max(b-a)\n",
    "        - a: 이 샘플과 같은 클러스터 내 다른 샘플들과의 평균 거리\n",
    "        - b: 가장 가까운 클러스터의 샘플까지의 평균 거리\n",
    "        - 값의 범위 -1 ~ +1\n",
    "            - +1에 가까우면 잘 분류되었다.\n",
    "            - 0이면 경계\n",
    "            - -1에 가까우면 잘못 분류되었다."
   ]
  },
  {
   "cell_type": "code",
   "execution_count": 29,
   "id": "272cf3fd",
   "metadata": {},
   "outputs": [
    {
     "data": {
      "text/plain": [
       "0.5528190123564095"
      ]
     },
     "execution_count": 29,
     "metadata": {},
     "output_type": "execute_result"
    }
   ],
   "source": [
    "from sklearn.metrics import silhouette_score\n",
    "from sklearn.metrics import silhouette_samples\n",
    "\n",
    "silhouette_score(X, kmeans.labels_)"
   ]
  },
  {
   "cell_type": "markdown",
   "id": "feb12fbb",
   "metadata": {},
   "source": [
    "# 실루엣 다이어그램을 그려보자.\n",
    "- 높이\n",
    "    - 클러스터가 포함하는 샘플 수 \n",
    "- 너비\n",
    "    - 클러스터의 샘플들 실루엣 계수 넓을 수록 좋다.\n",
    "- 엘보상 k=4, 실루엣 점수 상 k=3가 좋았지만 실루엣 계수 분포를 보니 k=6이 적당할 것 같다"
   ]
  },
  {
   "cell_type": "code",
   "execution_count": null,
   "id": "919411f2",
   "metadata": {},
   "outputs": [],
   "source": []
  }
 ],
 "metadata": {
  "kernelspec": {
   "display_name": "Python 3 (ipykernel)",
   "language": "python",
   "name": "python3"
  },
  "language_info": {
   "codemirror_mode": {
    "name": "ipython",
    "version": 3
   },
   "file_extension": ".py",
   "mimetype": "text/x-python",
   "name": "python",
   "nbconvert_exporter": "python",
   "pygments_lexer": "ipython3",
   "version": "3.10.9"
  }
 },
 "nbformat": 4,
 "nbformat_minor": 5
}
