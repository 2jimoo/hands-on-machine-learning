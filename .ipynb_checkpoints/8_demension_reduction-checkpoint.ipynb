{
 "cells": [
  {
   "cell_type": "markdown",
   "id": "fe6d968e",
   "metadata": {},
   "source": [
    "# 데이터의 차원\n",
    "- 차원 축소의 목표\n",
    "    - 훈련 속도, 데이터 시각화에 유용\n",
    "- 원리\n",
    "    - 거의 대부분 무관(일정)한 데이터 => 제거 대상 \n",
    "    - 일부는 특성간 강한 연관성 => 표현 대상\n",
    "- 배경\n",
    "    - 고차원일수록 인접 두 샘플의 거리가 멀어진다.\n",
    "    - 따라서 데이터가 고차원일수록 많은 외삽이 일어나 과대적합됨\n",
    "- 개선 방법\n",
    "    - 훈련 샘플의 밀도가 충분히 높아질 때까지 데이터 추가(차원 대비 기하급수적으로 필요)\n",
    "    - 데이터 차원 축소\n",
    "    \n",
    "    \n",
    "# 차원 축소 접근법\n",
    "- 전적으로 데이터셋에 달려있긴 함\n",
    "- (1) 투영\n",
    "    - 현재 고차원의 유용한 특성들은 어떤 저차원 부분공간에 놓여있다는 해석\n",
    "    - 데이터 공간이 뒤틀리거나 휘어있는 경우 예상처럼 해석 불가 ex. 스위스롤 데이터셋\n",
    "- (2) 매니폴드 학습\n",
    "    - n차원 공간에서 국부적으로 뒤틀리거나 휘어진 d 차원 공간(d<n)\n",
    "    - 그러나 고차원에서의 결정경계가 더 적합(간단)한 경우도 있음"
   ]
  }
 ],
 "metadata": {
  "kernelspec": {
   "display_name": "Python 3 (ipykernel)",
   "language": "python",
   "name": "python3"
  },
  "language_info": {
   "codemirror_mode": {
    "name": "ipython",
    "version": 3
   },
   "file_extension": ".py",
   "mimetype": "text/x-python",
   "name": "python",
   "nbconvert_exporter": "python",
   "pygments_lexer": "ipython3",
   "version": "3.10.9"
  }
 },
 "nbformat": 4,
 "nbformat_minor": 5
}
