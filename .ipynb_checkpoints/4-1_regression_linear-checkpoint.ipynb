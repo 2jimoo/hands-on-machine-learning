{
 "cells": [
  {
   "cell_type": "markdown",
   "id": "e5c0eba0",
   "metadata": {},
   "source": [
    "# 비용함수를 최소화하는 해석학적 방법\n",
    "- 정규 방정식(Normal equation)\n",
    "    - 데이터와 레이블들에서 다항 행렬의 역행렬 취하여 직접 가중치 행렬을 구한다.\n",
    "- 특잇값 분해(Singular value decomposition)\n",
    "    - 유사역행렬은 항상 존재함: 역행렬이 존재하지 않는 경우에도 동작\n",
    "    - 계산량 정규방정식에 비해 적음"
   ]
  },
  {
   "cell_type": "code",
   "execution_count": 1,
   "id": "568ce6a3",
   "metadata": {},
   "outputs": [
    {
     "data": {
      "text/plain": [
       "array([[3.82654391],\n",
       "       [3.02386291]])"
      ]
     },
     "execution_count": 1,
     "metadata": {},
     "output_type": "execute_result"
    }
   ],
   "source": [
    "import numpy as np\n",
    "\n",
    "# 무작위 선형 데이터 생성\n",
    "X= 2* np.random.rand(100,1)\n",
    "X_b= np.c_[np.ones((100,1)), X]\n",
    "\n",
    "#y = wX+ b + nosise\n",
    "y= 4+3*X+np.random.randn(100,1)\n",
    "\n",
    "# 정규방정식 해(가중치 행렬)구하기\n",
    "theta_best= np.linalg.inv(X_b.T.dot(X_b)).dot(X_b.T).dot(y)\n",
    "theta_best"
   ]
  },
  {
   "cell_type": "code",
   "execution_count": 2,
   "id": "bb81f21c",
   "metadata": {},
   "outputs": [
    {
     "data": {
      "text/plain": [
       "array([[3.82654391],\n",
       "       [9.87426974]])"
      ]
     },
     "execution_count": 2,
     "metadata": {},
     "output_type": "execute_result"
    }
   ],
   "source": [
    "#가중치 행렬 통해 예측하기\n",
    "X_new = np.array([[0],[2]])\n",
    "X_new_b= np.c_[np.ones((2,1)), X_new]\n",
    "y_predict= X_new_b.dot(theta_best)\n",
    "y_predict"
   ]
  },
  {
   "cell_type": "code",
   "execution_count": 3,
   "id": "264643b2",
   "metadata": {},
   "outputs": [
    {
     "data": {
      "image/png": "[encoded data removed]",
      "text/plain": [
       "<Figure size 640x480 with 1 Axes>"
      ]
     },
     "metadata": {},
     "output_type": "display_data"
    }
   ],
   "source": [
    "import matplotlib.pyplot as plt\n",
    "plt.plot(X_new, y_predict, \"r-\")\n",
    "plt.plot(X,y,\"b.\")\n",
    "plt.axis([0,2,0,15])\n",
    "plt.show()"
   ]
  },
  {
   "cell_type": "markdown",
   "id": "9232e537",
   "metadata": {},
   "source": [
    "### 사이킷런 선형회귀와 비교"
   ]
  },
  {
   "cell_type": "code",
   "execution_count": 4,
   "id": "e18c9c32",
   "metadata": {},
   "outputs": [
    {
     "name": "stdout",
     "output_type": "stream",
     "text": [
      "[3.82654391] [[3.02386291]]\n",
      "[[3.82654391]\n",
      " [9.87426974]]\n"
     ]
    }
   ],
   "source": [
    "from sklearn.linear_model import LinearRegression\n",
    "lin_reg= LinearRegression()\n",
    "lin_reg.fit(X, y)\n",
    "\n",
    "print(lin_reg.intercept_, lin_reg.coef_)\n",
    "print(lin_reg.predict(X_new))"
   ]
  },
  {
   "cell_type": "markdown",
   "id": "6aad28d8",
   "metadata": {},
   "source": [
    "# 비용함수를 최적화하는 최적화 방법\n",
    "- 정규방정식은 O(파라미터수^2)\n",
    "- 파라미터 수가 많을 때, 샘플 수가 많아 메모리에 담을 수 없을 때 비용함수 최적화에 경사하강법 활용\n",
    "\n",
    "### 경사하강법\n",
    "- 비용함수가 볼록함수인가?\n",
    "    - 하나의 지역 최솟값 보장: 지역 최솟값, 평면에 갇힘등 발생 하지않음\n",
    "    - 연속된 기울기가 갑자기 변하지않는 함수: 미분 가능함\n",
    "- 방법\n",
    "    - 파라미터 벡터 무작위 초기화\n",
    "    - parameter_vector_i에 대해 편미분 방정식 구함\n",
    "    - 현재 값에서의 편미분값 구함\n",
    "    - 다음 가중치 = 현재가중치 - 학습률x편미분값\n",
    "- 특성의 스케일을 정규화 시키지않으면 특정 특성에 의해 최솟값 도달 오래 걸림"
   ]
  },
  {
   "cell_type": "markdown",
   "id": "f9fc899c",
   "metadata": {},
   "source": [
    "### 배치 경사하강법\n",
    "- 매 스텝에서 전체 훈련세트에 대해 계산\n",
    "- 반복 횟수\n",
    "    - 너무 크면 오래 걸린다, 너무 작으면 최솟값에 수렴하지 못 한다.\n",
    "    - 어떻게 결정해야하는가?\n",
    "        - 반복횟수를 아주 크게 설정하고, 그래디언트 벡터크기(Norm)가 특정 크기보다 작아지면 정지"
   ]
  },
  {
   "cell_type": "code",
   "execution_count": 8,
   "id": "08e0c334",
   "metadata": {},
   "outputs": [
    {
     "data": {
      "text/plain": [
       "array([[3.82654391],\n",
       "       [3.02386291]])"
      ]
     },
     "execution_count": 8,
     "metadata": {},
     "output_type": "execute_result"
    }
   ],
   "source": [
    "#학습률\n",
    "eta= 0.1 \n",
    "n_iter=1000\n",
    "m=100\n",
    "\n",
    "theta= np.random.randn(2,1)\n",
    "\n",
    "for it in range(n_iter):\n",
    "    gradients= 2/m*X_b.T.dot(X_b.dot(theta)-y)\n",
    "    theta= theta- eta*gradients\n",
    "theta"
   ]
  },
  {
   "cell_type": "markdown",
   "id": "0fb4b7ea",
   "metadata": {},
   "source": [
    "### 확률적 경사하강법(SGD)\n",
    "- 매 스텝에 무작위 샘플 하나에 대해서만 그래디언트 계산\n",
    "- 무작위성\n",
    "    - 장점: 지역최솟값 탈출 가능\n",
    "    - 단점\n",
    "        - 평균적 수렴=요동치면서 이동=학습횟수 종료시 최적값 아닐 수 있음\n",
    "        - 매번 샘플을 랜덤하게 섞어야 모든 샘플 사용하도록 할 수 있음(수렴시간 증가)\n",
    "- 학습 스케줄링으로 해결\n",
    "    - 처음에는 지역 최솟값에 빠지지않게 큰 학습률\n",
    "    - 점진적으로 학습률 작게하여 최솟값에 수렴하도록함\n",
    "    \n",
    "### 미니배치 경사하강법\n",
    "- 임의의 작은 샘플 세트에 확률적 경사하강법 적용     "
   ]
  },
  {
   "cell_type": "code",
   "execution_count": 12,
   "id": "2729211b",
   "metadata": {},
   "outputs": [
    {
     "data": {
      "text/plain": [
       "array([[3.81887006],\n",
       "       [3.06613807]])"
      ]
     },
     "execution_count": 12,
     "metadata": {},
     "output_type": "execute_result"
    }
   ],
   "source": [
    "n_epochs =50\n",
    "# 학습 스케줄 파라미터\n",
    "t0, t1= 5, 50\n",
    "\n",
    "def learning_schedule(t):\n",
    "    return t0/(t+t1)\n",
    "\n",
    "theta= np.random.randn(2,1)\n",
    "\n",
    "for epoch in range(n_epochs):\n",
    "    for i in range(m):\n",
    "        random_index= np.random.randint(m)\n",
    "        xi= X_b[random_index:random_index+1]\n",
    "        yi= y[random_index:random_index+1]\n",
    "        gradients= 2 * xi.T.dot(xi.dot(theta)-yi)\n",
    "        eta=learning_schedule(epoch*m+i)\n",
    "        theta= theta- eta*gradients\n",
    "        \n",
    "theta        "
   ]
  },
  {
   "cell_type": "code",
   "execution_count": 14,
   "id": "93d022e3",
   "metadata": {},
   "outputs": [
    {
     "data": {
      "text/plain": [
       "(array([3.81455936]), array([3.03536656]))"
      ]
     },
     "execution_count": 14,
     "metadata": {},
     "output_type": "execute_result"
    }
   ],
   "source": [
    "from sklearn.linear_model import SGDRegressor\n",
    "sgd_reg= SGDRegressor(max_iter=1000, tol=1e-3, penalty=None, eta0=0.1)\n",
    "sgd_reg.fit(X, y.ravel())\n",
    "\n",
    "sgd_reg.intercept_, sgd_reg.coef_"
   ]
  },
  {
   "cell_type": "markdown",
   "id": "ba6f6d71",
   "metadata": {},
   "source": []
  }
 ],
 "metadata": {
  "kernelspec": {
   "display_name": "Python 3 (ipykernel)",
   "language": "python",
   "name": "python3"
  },
  "language_info": {
   "codemirror_mode": {
    "name": "ipython",
    "version": 3
   },
   "file_extension": ".py",
   "mimetype": "text/x-python",
   "name": "python",
   "nbconvert_exporter": "python",
   "pygments_lexer": "ipython3",
   "version": "3.10.9"
  }
 },
 "nbformat": 4,
 "nbformat_minor": 5
}
