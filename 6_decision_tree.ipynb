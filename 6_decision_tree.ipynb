{
 "cells": [
  {
   "cell_type": "markdown",
   "id": "accf23d0",
   "metadata": {},
   "source": [
    "# 1. 시각화"
   ]
  },
  {
   "cell_type": "code",
   "execution_count": 7,
   "id": "18e04a11",
   "metadata": {
    "scrolled": true
   },
   "outputs": [
    {
     "name": "stdout",
     "output_type": "stream",
     "text": [
      "./iris_tree.dot\n"
     ]
    }
   ],
   "source": [
    "from sklearn.datasets import load_iris\n",
    "from sklearn.tree import DecisionTreeClassifier\n",
    "from sklearn.tree import export_graphviz\n",
    "import os\n",
    "\n",
    "iris= load_iris()\n",
    "X = iris.data[:, 2:]\n",
    "y=iris.target\n",
    "\n",
    "tree_clf= DecisionTreeClassifier(max_depth=2)\n",
    "tree_clf.fit(X,y)\n",
    "\n",
    "def image_path(path):\n",
    "    print(os.path.join(\"./\",path))\n",
    "    return os.path.join(\"./\",path)\n",
    "\n",
    "export_graphviz(\n",
    "    tree_clf,\n",
    "    out_file=image_path(\"iris_tree.dot\"),\n",
    "    feature_names=iris.feature_names[2:],\n",
    "    class_names=iris.target_names,\n",
    "    rounded=True,\n",
    "    filled=True\n",
    ")"
   ]
  },
  {
   "cell_type": "code",
   "execution_count": 8,
   "id": "af54c384",
   "metadata": {},
   "outputs": [
    {
     "name": "stdout",
     "output_type": "stream",
     "text": [
      "1_house_price_from_population_data_analysis.ipynb\r\n",
      "2_data_trandform_pipeline.ipynb\r\n",
      "3_mnist_confusion_matrix.ipynb\r\n",
      "4-1_regression_linear.ipynb\r\n",
      "4-2_regression_polynomial_normalization.ipynb\r\n",
      "4-3_regression_logistic.ipynb\r\n",
      "4-4_early_stopping_msgd_softmax_regression.ipynb\r\n",
      "5-1_support_vector_machine.ipynb\r\n",
      "6_decision_tree.ipynb\r\n",
      "README.md\r\n",
      "\u001b[1m\u001b[36mdatasets\u001b[m\u001b[m\r\n",
      "iris_tree.dot\r\n"
     ]
    }
   ],
   "source": [
    "! dot -Tpng iris_tree.dot"
   ]
  },
  {
   "cell_type": "code",
   "execution_count": null,
   "id": "7d60af07",
   "metadata": {},
   "outputs": [],
   "source": []
  }
 ],
 "metadata": {
  "kernelspec": {
   "display_name": "Python 3 (ipykernel)",
   "language": "python",
   "name": "python3"
  },
  "language_info": {
   "codemirror_mode": {
    "name": "ipython",
    "version": 3
   },
   "file_extension": ".py",
   "mimetype": "text/x-python",
   "name": "python",
   "nbconvert_exporter": "python",
   "pygments_lexer": "ipython3",
   "version": "3.10.9"
  }
 },
 "nbformat": 4,
 "nbformat_minor": 5
}
