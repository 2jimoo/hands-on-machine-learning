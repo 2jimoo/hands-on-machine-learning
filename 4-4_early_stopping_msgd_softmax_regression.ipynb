{
 "cells": [
  {
   "cell_type": "markdown",
   "id": "8cbf4c5b",
   "metadata": {},
   "source": [
    "# 조기 종료를 사용한 배치 경사 하강법으로 소프트맥스 회귀 구현하기"
   ]
  },
  {
   "cell_type": "markdown",
   "id": "62a3fd51",
   "metadata": {},
   "source": [
    "### 1. 데이터 가져오기"
   ]
  },
  {
   "cell_type": "code",
   "execution_count": 4,
   "id": "80c9a888",
   "metadata": {},
   "outputs": [],
   "source": [
    "from sklearn import datasets\n",
    "import numpy as np\n",
    "\n",
    "iris= datasets.load_iris()\n",
    "X = iris[\"data\"][:, (2, 3)]  # 꽃잎 길이, 꽃잎 넓이\n",
    "y = iris[\"target\"]\n",
    "\n",
    "#모든 샘플에 편향을 추가합니다\n",
    "X_with_bias = np.c_[np.ones([len(X), 1]), X]\n",
    "#결과를 일정하게 유지하기 위해 랜덤 시드를 지정\n",
    "np.random.seed(2042)"
   ]
  },
  {
   "cell_type": "markdown",
   "id": "74754237",
   "metadata": {},
   "source": [
    "### 2.  훈련 세트, 검증 세트, 테스트 세트로 나누기"
   ]
  },
  {
   "cell_type": "code",
   "execution_count": 7,
   "id": "a30323cb",
   "metadata": {},
   "outputs": [],
   "source": [
    "test_ratio = 0.2\n",
    "validation_ratio = 0.2\n",
    "total_size = len(X_with_bias)\n",
    "\n",
    "test_size = int(total_size * test_ratio)\n",
    "validation_size = int(total_size * validation_ratio)\n",
    "train_size = total_size - test_size - validation_size\n",
    "\n",
    "rnd_indices = np.random.permutation(total_size)\n",
    "\n",
    "X_train = X_with_bias[rnd_indices[:train_size]]\n",
    "y_train = y[rnd_indices[:train_size]]\n",
    "X_valid = X_with_bias[rnd_indices[train_size:-test_size]]\n",
    "y_valid = y[rnd_indices[train_size:-test_size]]\n",
    "X_test = X_with_bias[rnd_indices[-test_size:]]\n",
    "y_test = y[rnd_indices[-test_size:]]"
   ]
  },
  {
   "cell_type": "markdown",
   "id": "b640191b",
   "metadata": {},
   "source": [
    "### 3. Onehot Encoding"
   ]
  },
  {
   "cell_type": "code",
   "execution_count": 8,
   "id": "6449af42",
   "metadata": {},
   "outputs": [],
   "source": [
    "def to_one_hot(y):\n",
    "    n_classes = y.max() + 1\n",
    "    m = len(y)\n",
    "    Y_one_hot = np.zeros((m, n_classes))\n",
    "    Y_one_hot[np.arange(m), y] = 1\n",
    "    return Y_one_hot\n",
    "Y_train_one_hot = to_one_hot(y_train)\n",
    "Y_valid_one_hot = to_one_hot(y_valid)\n",
    "Y_test_one_hot = to_one_hot(y_test)"
   ]
  },
  {
   "cell_type": "markdown",
   "id": "3f66fe84",
   "metadata": {},
   "source": [
    "### 4. 소프트맥스 모델"
   ]
  },
  {
   "cell_type": "code",
   "execution_count": 9,
   "id": "90ad2f60",
   "metadata": {},
   "outputs": [],
   "source": [
    "def softmax(logits):\n",
    "    exps = np.exp(logits)\n",
    "    exp_sums = np.sum(exps, axis=1, keepdims=True)\n",
    "    return exps / exp_sums\n",
    "# 입출력 개수\n",
    "n_inputs = X_train.shape[1] # == 3 (특성 2개와 편향)\n",
    "n_outputs = len(np.unique(y_train))   # == 3 (3개의 붓꽃 클래스)"
   ]
  },
  {
   "cell_type": "markdown",
   "id": "2a8f5313",
   "metadata": {},
   "source": [
    "### 5. 비용함수,  학습"
   ]
  },
  {
   "cell_type": "code",
   "execution_count": 10,
   "id": "6a381f7e",
   "metadata": {},
   "outputs": [
    {
     "name": "stdout",
     "output_type": "stream",
     "text": [
      "0 2.0098317606794267\n",
      "500 0.7775485994012685\n",
      "1000 0.6358595299644286\n",
      "1500 0.553854152323856\n",
      "2000 0.5002301566083223\n",
      "2500 0.46167353758270924\n",
      "3000 0.43206307086901297\n",
      "3500 0.4082683127711592\n",
      "4000 0.3885249426733036\n",
      "4500 0.3717545031055311\n",
      "5000 0.35725297209557083\n"
     ]
    }
   ],
   "source": [
    "eta = 0.01\n",
    "n_iterations = 5001\n",
    "m = len(X_train)\n",
    "epsilon = 1e-7\n",
    "\n",
    "Theta = np.random.randn(n_inputs, n_outputs)\n",
    "\n",
    "for iteration in range(n_iterations):\n",
    "    logits = X_train.dot(Theta)\n",
    "    Y_proba = softmax(logits)\n",
    "    if iteration % 500 == 0:\n",
    "        loss = -np.mean(np.sum(Y_train_one_hot * np.log(Y_proba + epsilon), axis=1))\n",
    "        print(iteration, loss)\n",
    "    error = Y_proba - Y_train_one_hot\n",
    "    gradients = 1/m * X_train.T.dot(error)\n",
    "    Theta = Theta - eta * gradients"
   ]
  },
  {
   "cell_type": "markdown",
   "id": "62ff7e16",
   "metadata": {},
   "source": [
    "### 6.  모델 파라미터, 예측과 정확도를 확인"
   ]
  },
  {
   "cell_type": "code",
   "execution_count": 11,
   "id": "efeb2a1b",
   "metadata": {},
   "outputs": [
    {
     "data": {
      "text/plain": [
       "array([[ 3.30012252, -0.19360882, -3.26721327],\n",
       "       [-1.20747709, -0.58488635, -0.4152438 ],\n",
       "       [-2.1970059 ,  0.25677352,  1.72547638]])"
      ]
     },
     "execution_count": 11,
     "metadata": {},
     "output_type": "execute_result"
    }
   ],
   "source": [
    "Theta"
   ]
  },
  {
   "cell_type": "code",
   "execution_count": 12,
   "id": "d9f36b8d",
   "metadata": {},
   "outputs": [
    {
     "data": {
      "text/plain": [
       "0.8666666666666667"
      ]
     },
     "execution_count": 12,
     "metadata": {},
     "output_type": "execute_result"
    }
   ],
   "source": [
    "logits = X_valid.dot(Theta)\n",
    "Y_proba = softmax(logits)\n",
    "y_predict = np.argmax(Y_proba, axis=1)\n",
    "\n",
    "accuracy_score = np.mean(y_predict == y_valid)\n",
    "accuracy_score"
   ]
  },
  {
   "cell_type": "markdown",
   "id": "68ba78b7",
   "metadata": {},
   "source": [
    "### 7. 규제항 추가, 학습률 조정 해보기"
   ]
  },
  {
   "cell_type": "code",
   "execution_count": 13,
   "id": "15b82a3b",
   "metadata": {},
   "outputs": [
    {
     "name": "stdout",
     "output_type": "stream",
     "text": [
      "0 2.968736899582155\n",
      "500 0.5197864820932234\n",
      "1000 0.4910558310637946\n",
      "1500 0.48254537680629156\n",
      "2000 0.4793184131301125\n",
      "2500 0.47798748905462335\n",
      "3000 0.47741514348123926\n",
      "3500 0.4771630781432381\n",
      "4000 0.47705044259988794\n",
      "4500 0.47699964640820014\n",
      "5000 0.47697660148778775\n"
     ]
    }
   ],
   "source": [
    "eta = 0.1\n",
    "n_iterations = 5001\n",
    "m = len(X_train)\n",
    "epsilon = 1e-7\n",
    "alpha = 0.1  # 규제 하이퍼파라미터\n",
    "\n",
    "Theta = np.random.randn(n_inputs, n_outputs)\n",
    "\n",
    "for iteration in range(n_iterations):\n",
    "    logits = X_train.dot(Theta)\n",
    "    Y_proba = softmax(logits)\n",
    "    if iteration % 500 == 0:\n",
    "        xentropy_loss = -np.mean(np.sum(Y_train_one_hot * np.log(Y_proba + epsilon), axis=1))\n",
    "        l2_loss = 1/2 * np.sum(np.square(Theta[1:]))\n",
    "        loss = xentropy_loss + alpha * l2_loss\n",
    "        print(iteration, loss)\n",
    "    error = Y_proba - Y_train_one_hot\n",
    "    gradients = 1/m * X_train.T.dot(error) + np.r_[np.zeros([1, n_outputs]), alpha * Theta[1:]] #?\n",
    "    Theta = Theta - eta * gradients"
   ]
  },
  {
   "cell_type": "code",
   "execution_count": 14,
   "id": "3e1d221f",
   "metadata": {},
   "outputs": [
    {
     "data": {
      "text/plain": [
       "0.9333333333333333"
      ]
     },
     "execution_count": 14,
     "metadata": {},
     "output_type": "execute_result"
    }
   ],
   "source": [
    "logits = X_valid.dot(Theta)\n",
    "Y_proba = softmax(logits)\n",
    "y_predict = np.argmax(Y_proba, axis=1)\n",
    "\n",
    "accuracy_score = np.mean(y_predict == y_valid)\n",
    "accuracy_score"
   ]
  },
  {
   "cell_type": "markdown",
   "id": "b7357870",
   "metadata": {},
   "source": [
    "### 8. 조기 종료 추가\n",
    "- 매 반복에서 검증 세트에 대한 손실을 계산해서 오차가 증가하기 시작할 때 멈춰야 합니다."
   ]
  },
  {
   "cell_type": "code",
   "execution_count": 20,
   "id": "a5e10aca",
   "metadata": {},
   "outputs": [
    {
     "name": "stdout",
     "output_type": "stream",
     "text": [
      "0 4.061430717692872\n",
      "10000 0.5668982777562561\n",
      "20000 0.5668952165362493\n",
      "29898 0.5668952152662812\n",
      "29899 0.5668952152662812 조기 종료!\n"
     ]
    }
   ],
   "source": [
    "eta = 0.1 \n",
    "n_iterations = 100001\n",
    "m = len(X_train)\n",
    "epsilon = 1e-7\n",
    "alpha = 0.1  # 규제 하이퍼파라미터\n",
    "best_loss = np.infty\n",
    "\n",
    "Theta = np.random.randn(n_inputs, n_outputs)\n",
    "\n",
    "for iteration in range(n_iterations):\n",
    "    logits = X_train.dot(Theta)\n",
    "    Y_proba = softmax(logits)\n",
    "    error = Y_proba - Y_train_one_hot\n",
    "    gradients = 1/m * X_train.T.dot(error) + np.r_[np.zeros([1, n_outputs]), alpha * Theta[1:]]\n",
    "    Theta = Theta - eta * gradients\n",
    "\n",
    "    logits = X_valid.dot(Theta)\n",
    "    Y_proba = softmax(logits)\n",
    "    xentropy_loss = -np.mean(np.sum(Y_valid_one_hot * np.log(Y_proba + epsilon), axis=1))\n",
    "    l2_loss = 1/2 * np.sum(np.square(Theta[1:]))\n",
    "    loss = xentropy_loss + alpha * l2_loss\n",
    "    if iteration % 10000 == 0:\n",
    "        print(iteration, loss)\n",
    "    if loss < best_loss:\n",
    "        best_loss = loss\n",
    "    else:\n",
    "        print(iteration - 1, best_loss)\n",
    "        print(iteration, loss, \"조기 종료!\")\n",
    "        break"
   ]
  },
  {
   "cell_type": "code",
   "execution_count": 23,
   "id": "4d8c0229",
   "metadata": {},
   "outputs": [
    {
     "data": {
      "text/plain": [
       "0.9333333333333333"
      ]
     },
     "execution_count": 23,
     "metadata": {},
     "output_type": "execute_result"
    }
   ],
   "source": [
    "logits = X_valid.dot(Theta)\n",
    "Y_proba = softmax(logits)\n",
    "y_predict = np.argmax(Y_proba, axis=1)\n",
    "\n",
    "accuracy_score = np.mean(y_predict == y_valid)\n",
    "accuracy_score"
   ]
  },
  {
   "cell_type": "markdown",
   "id": "ee304e86",
   "metadata": {},
   "source": [
    "### 9. 모델 예측 그래프, 최종 정확도"
   ]
  },
  {
   "cell_type": "code",
   "execution_count": 22,
   "id": "99846718",
   "metadata": {},
   "outputs": [
    {
     "data": {
      "text/plain": [
       "1.0"
      ]
     },
     "execution_count": 22,
     "metadata": {},
     "output_type": "execute_result"
    }
   ],
   "source": [
    "logits = X_test.dot(Theta)\n",
    "Y_proba = softmax(logits)\n",
    "y_predict = np.argmax(Y_proba, axis=1)\n",
    "\n",
    "accuracy_score = np.mean(y_predict == y_test)\n",
    "accuracy_score"
   ]
  }
 ],
 "metadata": {
  "kernelspec": {
   "display_name": "Python 3 (ipykernel)",
   "language": "python",
   "name": "python3"
  },
  "language_info": {
   "codemirror_mode": {
    "name": "ipython",
    "version": 3
   },
   "file_extension": ".py",
   "mimetype": "text/x-python",
   "name": "python",
   "nbconvert_exporter": "python",
   "pygments_lexer": "ipython3",
   "version": "3.10.9"
  }
 },
 "nbformat": 4,
 "nbformat_minor": 5
}
