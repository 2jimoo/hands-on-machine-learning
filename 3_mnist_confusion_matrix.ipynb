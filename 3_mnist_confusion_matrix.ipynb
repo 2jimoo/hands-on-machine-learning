{
 "cells": [
  {
   "cell_type": "markdown",
   "id": "95ee07b2",
   "metadata": {},
   "source": [
    "# 1. 데이터 확인 \n",
    "- DESCR : 데이터 설명\n",
    "- data, target(레이블)"
   ]
  },
  {
   "cell_type": "code",
   "execution_count": 1,
   "id": "af7d9925",
   "metadata": {},
   "outputs": [
    {
     "name": "stderr",
     "output_type": "stream",
     "text": [
      "/opt/homebrew/lib/python3.10/site-packages/sklearn/datasets/_openml.py:932: FutureWarning: The default value of `parser` will change from `'liac-arff'` to `'auto'` in 1.4. You can set `parser='auto'` to silence this warning. Therefore, an `ImportError` will be raised from 1.4 if the dataset is dense and pandas is not installed. Note that the pandas parser may return different data types. See the Notes Section in fetch_openml's API doc for details.\n",
      "  warn(\n"
     ]
    },
    {
     "data": {
      "text/plain": [
       "dict_keys(['data', 'target', 'frame', 'categories', 'feature_names', 'target_names', 'DESCR', 'details', 'url'])"
      ]
     },
     "execution_count": 1,
     "metadata": {},
     "output_type": "execute_result"
    }
   ],
   "source": [
    "from sklearn.datasets import fetch_openml\n",
    "mnist = fetch_openml('mnist_784', version=1, as_frame=False)\n",
    "mnist.keys()"
   ]
  },
  {
   "cell_type": "code",
   "execution_count": 2,
   "id": "dbd7d719",
   "metadata": {},
   "outputs": [
    {
     "data": {
      "text/plain": [
       "(70000, 784)"
      ]
     },
     "execution_count": 2,
     "metadata": {},
     "output_type": "execute_result"
    }
   ],
   "source": [
    "X,y = mnist['data'], mnist['target']\n",
    "X.shape"
   ]
  },
  {
   "cell_type": "code",
   "execution_count": 3,
   "id": "e2d3523a",
   "metadata": {},
   "outputs": [
    {
     "data": {
      "text/plain": [
       "(70000,)"
      ]
     },
     "execution_count": 3,
     "metadata": {},
     "output_type": "execute_result"
    }
   ],
   "source": [
    "y.shape"
   ]
  },
  {
   "cell_type": "code",
   "execution_count": 4,
   "id": "182ec56a",
   "metadata": {},
   "outputs": [
    {
     "data": {
      "image/png": "[encoded data removed]",
      "text/plain": [
       "<Figure size 640x480 with 1 Axes>"
      ]
     },
     "metadata": {},
     "output_type": "display_data"
    }
   ],
   "source": [
    "import matplotlib as mpl\n",
    "import matplotlib.pyplot as plt\n",
    "\n",
    "some_digit=X[0]\n",
    "some_digit_image=some_digit.reshape(28,28)\n",
    "\n",
    "plt.imshow(some_digit_image, cmap='binary')\n",
    "plt.axis('off')\n",
    "plt.show()"
   ]
  },
  {
   "cell_type": "code",
   "execution_count": 5,
   "id": "fd3da75e",
   "metadata": {},
   "outputs": [
    {
     "data": {
      "text/plain": [
       "'5'"
      ]
     },
     "execution_count": 5,
     "metadata": {},
     "output_type": "execute_result"
    }
   ],
   "source": [
    "y[0] #label이 문자열로 5임"
   ]
  },
  {
   "cell_type": "code",
   "execution_count": 6,
   "id": "ea0a6e66",
   "metadata": {},
   "outputs": [],
   "source": [
    "import numpy as np\n",
    "y=y.astype(np.uint8) #숫자로 변환"
   ]
  },
  {
   "cell_type": "markdown",
   "id": "2620bd1c",
   "metadata": {},
   "source": [
    "# 2. Devide test set"
   ]
  },
  {
   "cell_type": "code",
   "execution_count": 7,
   "id": "5991b9da",
   "metadata": {},
   "outputs": [],
   "source": [
    "X_train, X_test, y_train, y_test = X[:60000],X[60000:], y[:60000],y[60000:]"
   ]
  },
  {
   "cell_type": "markdown",
   "id": "0fce60a3",
   "metadata": {},
   "source": [
    "# 3. Binary Classification\n",
    "### SGDClassifier\n",
    "- 매우 큰 데이터 셋을 효율적으로 처리한다(온라인 학습에 적정)\n",
    "- 확률적 경사하강법\n",
    "    \n",
    "### Batch vs, Stochastic gradient descent\n",
    "- 경사하강법\n",
    "    - 비용함수를 제곱오차합 sum((y-y')^2)으로 정의\n",
    "        - 연속함수= 미분가능함\n",
    "    - 그래디언트(각 가중치에 대한 편미분값)*학습률 누적하여 가중치 업데이트 \n",
    "- 배치 경사하강법\n",
    "    - epoch당 전체 데이터에 대해 계산한한 그래디언트\n",
    "    - 모든 가중치 한 번에 업데이트\n",
    "- 확률적 경사하강법\n",
    "    - epoch당 모든 데이터 순회하며 1개 샘플(1개 가중치)씩만 업데이트\n",
    "    - 훈련샘플을 무작위하게 주입하는 것이 좋음\n",
    "        - 시계열 데이터는 섞으면 안 됨\n",
    "- 미니배치 경사하강법\n",
    "    - 일부씩 확률적 경사하강법 적용"
   ]
  },
  {
   "cell_type": "code",
   "execution_count": 8,
   "id": "c990dfde",
   "metadata": {},
   "outputs": [
    {
     "data": {
      "text/plain": [
       "array([ True])"
      ]
     },
     "execution_count": 8,
     "metadata": {},
     "output_type": "execute_result"
    }
   ],
   "source": [
    "from sklearn.linear_model import SGDClassifier\n",
    "\n",
    "y_train_5= (y_train ==5)\n",
    "y_tetst_5= (y_test==5)\n",
    "\n",
    "sgd_model= SGDClassifier(random_state=42)\n",
    "sgd_model.fit(X_train, y_train_5)\n",
    "\n",
    "sgd_model.predict([some_digit])"
   ]
  },
  {
   "cell_type": "markdown",
   "id": "17dcfbe8",
   "metadata": {},
   "source": [
    "# 4. Classification metrics\n",
    "- StratifiedKfold, Cross validation\n",
    "    - 정확도를 사용하는데 불균형한 데이터 셋을 다룰 때 별로 신뢰성 없음\n",
    "    - ex) 전체데이터의 10%만 5이기 때문에 모두 5아님으로 판단해도 정확도 90% 나옴\n",
    "- Confusion matrix\n",
    "    - 정밀도: 전체 양성 판정에 대한 양성 판정 성공률\n",
    "    - 재현율: 전체 실제 양성에 대한 양성 판정 성공률\n",
    "    - f1 score: 정밀도와 재현율의 조화 평균 - 데이터 불균형한 경우 크게 영향 안 받음\n",
    "    - 상황에 따라 둘 중 하나가 중요한데, 둘이 트레이드 오프관계\n",
    "- ROC Curve, AUC\n",
    "    - 정밀도가 높아도 재현율이 너무 낮으면 성능지표로 삼을 수 없음\n",
    "    - TPR/FPR\n",
    "    - AUC가 1에 가까울 수록 좋은 성능"
   ]
  },
  {
   "cell_type": "code",
   "execution_count": 9,
   "id": "62de34f0",
   "metadata": {},
   "outputs": [
    {
     "name": "stdout",
     "output_type": "stream",
     "text": [
      "0.9669\n",
      "0.91625\n",
      "0.96785\n"
     ]
    }
   ],
   "source": [
    "# StratifiedKfold, Cross validation\n",
    "from sklearn.model_selection import StratifiedKFold\n",
    "from sklearn.base import clone\n",
    "\n",
    "skfolds = StratifiedKFold(n_splits=3, random_state=42, shuffle=True)\n",
    "\n",
    "for train_index, test_index in skfolds.split(X_train, y_train_5):\n",
    "    clone_clf= clone(sgd_model)\n",
    "    X_train_folds= X_train[train_index]\n",
    "    y_train_folds= y_train_5[train_index]\n",
    "    X_test_folds= X_train[test_index]\n",
    "    y_test_folds= y_train_5[test_index]\n",
    "    \n",
    "    clone_clf.fit(X_train_folds, y_train_folds)\n",
    "    y_pred= clone_clf.predict(X_test_folds)\n",
    "    n_correct= sum(y_pred==y_test_folds)\n",
    "    print(n_correct/len(y_pred))"
   ]
  },
  {
   "cell_type": "code",
   "execution_count": 10,
   "id": "8d569273",
   "metadata": {},
   "outputs": [
    {
     "data": {
      "text/plain": [
       "array([0.95035, 0.96035, 0.9604 ])"
      ]
     },
     "execution_count": 10,
     "metadata": {},
     "output_type": "execute_result"
    }
   ],
   "source": [
    "from sklearn.model_selection import cross_val_score\n",
    "cross_val_score(sgd_model, X_train, y_train_5, cv=3, scoring='accuracy')"
   ]
  },
  {
   "cell_type": "code",
   "execution_count": 11,
   "id": "c8af9e31",
   "metadata": {},
   "outputs": [
    {
     "data": {
      "text/plain": [
       "array([0.91125, 0.90855, 0.90915])"
      ]
     },
     "execution_count": 11,
     "metadata": {},
     "output_type": "execute_result"
    }
   ],
   "source": [
    "# 모두 5 아님으로 판단하는 분류기 성능도 정확도 0.9로 나옴\n",
    "from sklearn.base import BaseEstimator\n",
    "\n",
    "class Never5Classifier(BaseEstimator):\n",
    "    def fit(self, X, y=None):\n",
    "        return self\n",
    "    def predict(self, X):\n",
    "        return np.zeros(len(X))\n",
    "    \n",
    "never5= Never5Classifier()\n",
    "cross_val_score(never5, X_train, y_train_5, cv=3, scoring='accuracy')"
   ]
  },
  {
   "cell_type": "markdown",
   "id": "b0e6ba04",
   "metadata": {},
   "source": [
    "### 분류기에 적합한 성능지표 - Precision, TPR"
   ]
  },
  {
   "cell_type": "code",
   "execution_count": 12,
   "id": "41961c88",
   "metadata": {},
   "outputs": [
    {
     "data": {
      "text/plain": [
       "array([[53892,   687],\n",
       "       [ 1891,  3530]])"
      ]
     },
     "execution_count": 12,
     "metadata": {},
     "output_type": "execute_result"
    }
   ],
   "source": [
    "from sklearn.model_selection import cross_val_predict\n",
    "from sklearn.metrics import confusion_matrix\n",
    "from sklearn.metrics import f1_score\n",
    "\n",
    "y_train_pred= cross_val_predict(sgd_model, X_train, y_train_5, cv=3)\n",
    "confusion_matrix(y_train_5, y_train_pred)\n",
    "f1_score(y_train_5, y_train_pred)"
   ]
  },
  {
   "cell_type": "markdown",
   "id": "4cd7a97f",
   "metadata": {},
   "source": [
    "### 분류기에 적합한 성능지표 - ROC, AUC"
   ]
  },
  {
   "cell_type": "code",
   "execution_count": 14,
   "id": "628ec1ff",
   "metadata": {},
   "outputs": [
    {
     "data": {
      "text/plain": [
       "0.9604938554008616"
      ]
     },
     "execution_count": 14,
     "metadata": {},
     "output_type": "execute_result"
    }
   ],
   "source": [
    "from sklearn.metrics import roc_auc_score\n",
    "\n",
    "# 반환값으로 예측말고 결정함수 값(점수)를 반환하도록 함\n",
    "y_scores= cross_val_predict(sgd_model, X_train, y_train_5, cv=3, method='decision_function')\n",
    "roc_auc_score(y_train_5, y_scores)"
   ]
  },
  {
   "cell_type": "code",
   "execution_count": 17,
   "id": "f8d8d20a",
   "metadata": {},
   "outputs": [],
   "source": [
    "# SGD와 랜덤 포레스트 성능비교\n",
    "from sklearn.ensemble import RandomForestClassifier\n",
    "from sklearn.metrics import roc_curve\n",
    "\n",
    "forest_model = RandomForestClassifier(random_state=42)\n",
    "y_probas_forest= y_scores= cross_val_predict(forest_model, X_train, y_train_5, cv=3, method='predict_proba')\n",
    "\n",
    "#점수대신 확률 사용\n",
    "y_scores_forest=y_probas_forest[:,1]\n",
    "fpr_forest, tpr_forest, thresholds_forest = roc_curve(y_train_5, y_scores_forest)"
   ]
  },
  {
   "cell_type": "code",
   "execution_count": 19,
   "id": "a7d2a365",
   "metadata": {},
   "outputs": [
    {
     "name": "stderr",
     "output_type": "stream",
     "text": [
      "/opt/homebrew/opt/ipython/libexec/lib/python3.10/site-packages/IPython/core/pylabtools.py:152: UserWarning: Glyph 47004 (\\N{HANGUL SYLLABLE RAEN}) missing from current font.\n",
      "  fig.canvas.print_figure(bytes_io, **kw)\n",
      "/opt/homebrew/opt/ipython/libexec/lib/python3.10/site-packages/IPython/core/pylabtools.py:152: UserWarning: Glyph 45924 (\\N{HANGUL SYLLABLE DEOM}) missing from current font.\n",
      "  fig.canvas.print_figure(bytes_io, **kw)\n",
      "/opt/homebrew/opt/ipython/libexec/lib/python3.10/site-packages/IPython/core/pylabtools.py:152: UserWarning: Glyph 54252 (\\N{HANGUL SYLLABLE PO}) missing from current font.\n",
      "  fig.canvas.print_figure(bytes_io, **kw)\n",
      "/opt/homebrew/opt/ipython/libexec/lib/python3.10/site-packages/IPython/core/pylabtools.py:152: UserWarning: Glyph 47112 (\\N{HANGUL SYLLABLE RE}) missing from current font.\n",
      "  fig.canvas.print_figure(bytes_io, **kw)\n",
      "/opt/homebrew/opt/ipython/libexec/lib/python3.10/site-packages/IPython/core/pylabtools.py:152: UserWarning: Glyph 49828 (\\N{HANGUL SYLLABLE SEU}) missing from current font.\n",
      "  fig.canvas.print_figure(bytes_io, **kw)\n",
      "/opt/homebrew/opt/ipython/libexec/lib/python3.10/site-packages/IPython/core/pylabtools.py:152: UserWarning: Glyph 53944 (\\N{HANGUL SYLLABLE TEU}) missing from current font.\n",
      "  fig.canvas.print_figure(bytes_io, **kw)\n"
     ]
    },
    {
     "data": {
      "image/png": "[encoded data removed]",
      "text/plain": [
       "<Figure size 640x480 with 1 Axes>"
      ]
     },
     "metadata": {},
     "output_type": "display_data"
    }
   ],
   "source": [
    "plt.plot(fpr_forest, tpr_forest, label='랜덤포레스트')\n",
    "plt.legend(loc='lower right')\n",
    "plt.show()"
   ]
  },
  {
   "cell_type": "markdown",
   "id": "f1fcb0da",
   "metadata": {},
   "source": [
    "# 5. 기타\n",
    "### 에러분석\n",
    "- 오차행렬(cross_val_predict, confusion_matrix)\n",
    "- 데이터가 적거나 특정 클래스의 분류성공률이 낮은 경우\n",
    "    - 데이터 증식(훈련세트 확장)기법 적용가능\n",
    "\n",
    "### 다중 분류\n",
    "- 이진분류만 지원하는 경우 OvR(클래스별 TF 판별기), OvO(클래스i와 클래스j 판별기) 가능\n",
    "\n",
    "### 다중 레이블 분류\n",
    "- \n"
   ]
  }
 ],
 "metadata": {
  "kernelspec": {
   "display_name": "Python 3 (ipykernel)",
   "language": "python",
   "name": "python3"
  },
  "language_info": {
   "codemirror_mode": {
    "name": "ipython",
    "version": 3
   },
   "file_extension": ".py",
   "mimetype": "text/x-python",
   "name": "python",
   "nbconvert_exporter": "python",
   "pygments_lexer": "ipython3",
   "version": "3.10.9"
  }
 },
 "nbformat": 4,
 "nbformat_minor": 5
}
